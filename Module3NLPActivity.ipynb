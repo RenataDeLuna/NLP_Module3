{
  "nbformat": 4,
  "nbformat_minor": 0,
  "metadata": {
    "colab": {
      "provenance": []
    },
    "kernelspec": {
      "name": "python3",
      "display_name": "Python 3"
    },
    "language_info": {
      "name": "python"
    },
    "accelerator": "GPU",
    "gpuClass": "standard"
  },
  "cells": [
    {
      "cell_type": "markdown",
      "source": [
        "### Preparation\n"
      ],
      "metadata": {
        "id": "rvbrDgsfV_sd"
      }
    },
    {
      "cell_type": "code",
      "source": [
        "# Packages to installfor sentiment analysis\n",
        "!python -m textblob.download_corpora"
      ],
      "metadata": {
        "colab": {
          "base_uri": "https://localhost:8080/"
        },
        "id": "j8Y2_K66UDGL",
        "outputId": "587da1ce-9205-4a03-cb04-feeaeaf8296d"
      },
      "execution_count": 1,
      "outputs": [
        {
          "output_type": "stream",
          "name": "stdout",
          "text": [
            "[nltk_data] Downloading package brown to /root/nltk_data...\n",
            "[nltk_data]   Unzipping corpora/brown.zip.\n",
            "[nltk_data] Downloading package punkt to /root/nltk_data...\n",
            "[nltk_data]   Unzipping tokenizers/punkt.zip.\n",
            "[nltk_data] Downloading package wordnet to /root/nltk_data...\n",
            "[nltk_data] Downloading package averaged_perceptron_tagger to\n",
            "[nltk_data]     /root/nltk_data...\n",
            "[nltk_data]   Unzipping taggers/averaged_perceptron_tagger.zip.\n",
            "[nltk_data] Downloading package conll2000 to /root/nltk_data...\n",
            "[nltk_data]   Unzipping corpora/conll2000.zip.\n",
            "[nltk_data] Downloading package movie_reviews to /root/nltk_data...\n",
            "[nltk_data]   Unzipping corpora/movie_reviews.zip.\n",
            "Finished.\n"
          ]
        }
      ]
    },
    {
      "cell_type": "code",
      "source": [
        "# Install translator\n",
        "!pip install translate"
      ],
      "metadata": {
        "colab": {
          "base_uri": "https://localhost:8080/"
        },
        "id": "ooj6Zax-UDtd",
        "outputId": "d07cd738-bafe-436c-b7b4-25128ebd1d2b"
      },
      "execution_count": 3,
      "outputs": [
        {
          "output_type": "stream",
          "name": "stdout",
          "text": [
            "Looking in indexes: https://pypi.org/simple, https://us-python.pkg.dev/colab-wheels/public/simple/\n",
            "Collecting translate\n",
            "  Downloading translate-3.6.1-py2.py3-none-any.whl (12 kB)\n",
            "Requirement already satisfied: requests in /usr/local/lib/python3.8/dist-packages (from translate) (2.23.0)\n",
            "Requirement already satisfied: lxml in /usr/local/lib/python3.8/dist-packages (from translate) (4.9.1)\n",
            "Requirement already satisfied: click in /usr/local/lib/python3.8/dist-packages (from translate) (7.1.2)\n",
            "Collecting libretranslatepy==2.1.1\n",
            "  Downloading libretranslatepy-2.1.1-py3-none-any.whl (3.2 kB)\n",
            "Requirement already satisfied: urllib3!=1.25.0,!=1.25.1,<1.26,>=1.21.1 in /usr/local/lib/python3.8/dist-packages (from requests->translate) (1.24.3)\n",
            "Requirement already satisfied: idna<3,>=2.5 in /usr/local/lib/python3.8/dist-packages (from requests->translate) (2.10)\n",
            "Requirement already satisfied: chardet<4,>=3.0.2 in /usr/local/lib/python3.8/dist-packages (from requests->translate) (3.0.4)\n",
            "Requirement already satisfied: certifi>=2017.4.17 in /usr/local/lib/python3.8/dist-packages (from requests->translate) (2022.9.24)\n",
            "Installing collected packages: libretranslatepy, translate\n",
            "Successfully installed libretranslatepy-2.1.1 translate-3.6.1\n"
          ]
        }
      ]
    },
    {
      "cell_type": "code",
      "source": [
        "# Install google trans\n",
        "!pip install googletrans==3.1.0a0"
      ],
      "metadata": {
        "colab": {
          "base_uri": "https://localhost:8080/"
        },
        "id": "ehd6-mIVUHUx",
        "outputId": "9126b5fb-94f8-43c0-ce1b-38e21ca5cbf3"
      },
      "execution_count": 4,
      "outputs": [
        {
          "output_type": "stream",
          "name": "stdout",
          "text": [
            "Looking in indexes: https://pypi.org/simple, https://us-python.pkg.dev/colab-wheels/public/simple/\n",
            "Collecting googletrans==3.1.0a0\n",
            "  Downloading googletrans-3.1.0a0.tar.gz (19 kB)\n",
            "Collecting httpx==0.13.3\n",
            "  Downloading httpx-0.13.3-py3-none-any.whl (55 kB)\n",
            "\u001b[K     |████████████████████████████████| 55 kB 3.4 MB/s \n",
            "\u001b[?25hCollecting sniffio\n",
            "  Downloading sniffio-1.3.0-py3-none-any.whl (10 kB)\n",
            "Requirement already satisfied: idna==2.* in /usr/local/lib/python3.8/dist-packages (from httpx==0.13.3->googletrans==3.1.0a0) (2.10)\n",
            "Collecting hstspreload\n",
            "  Downloading hstspreload-2022.12.1-py3-none-any.whl (1.5 MB)\n",
            "\u001b[K     |████████████████████████████████| 1.5 MB 23.0 MB/s \n",
            "\u001b[?25hCollecting httpcore==0.9.*\n",
            "  Downloading httpcore-0.9.1-py3-none-any.whl (42 kB)\n",
            "\u001b[K     |████████████████████████████████| 42 kB 1.4 MB/s \n",
            "\u001b[?25hRequirement already satisfied: chardet==3.* in /usr/local/lib/python3.8/dist-packages (from httpx==0.13.3->googletrans==3.1.0a0) (3.0.4)\n",
            "Collecting rfc3986<2,>=1.3\n",
            "  Downloading rfc3986-1.5.0-py2.py3-none-any.whl (31 kB)\n",
            "Requirement already satisfied: certifi in /usr/local/lib/python3.8/dist-packages (from httpx==0.13.3->googletrans==3.1.0a0) (2022.9.24)\n",
            "Collecting h11<0.10,>=0.8\n",
            "  Downloading h11-0.9.0-py2.py3-none-any.whl (53 kB)\n",
            "\u001b[K     |████████████████████████████████| 53 kB 1.2 MB/s \n",
            "\u001b[?25hCollecting h2==3.*\n",
            "  Downloading h2-3.2.0-py2.py3-none-any.whl (65 kB)\n",
            "\u001b[K     |████████████████████████████████| 65 kB 1.9 MB/s \n",
            "\u001b[?25hCollecting hyperframe<6,>=5.2.0\n",
            "  Downloading hyperframe-5.2.0-py2.py3-none-any.whl (12 kB)\n",
            "Collecting hpack<4,>=3.0\n",
            "  Downloading hpack-3.0.0-py2.py3-none-any.whl (38 kB)\n",
            "Building wheels for collected packages: googletrans\n",
            "  Building wheel for googletrans (setup.py) ... \u001b[?25l\u001b[?25hdone\n",
            "  Created wheel for googletrans: filename=googletrans-3.1.0a0-py3-none-any.whl size=16368 sha256=1bc05f52336d0f5c89ffc630ab5f5444e91700f4e02c5cf607ec53ea5347773a\n",
            "  Stored in directory: /root/.cache/pip/wheels/dd/59/af/8d6c96a719763990f1c548e36b17d9efdfb767f42f7ff39f53\n",
            "Successfully built googletrans\n",
            "Installing collected packages: hyperframe, hpack, sniffio, h2, h11, rfc3986, httpcore, hstspreload, httpx, googletrans\n",
            "Successfully installed googletrans-3.1.0a0 h11-0.9.0 h2-3.2.0 hpack-3.0.0 hstspreload-2022.12.1 httpcore-0.9.1 httpx-0.13.3 hyperframe-5.2.0 rfc3986-1.5.0 sniffio-1.3.0\n"
          ]
        }
      ]
    },
    {
      "cell_type": "code",
      "source": [
        "# Import all the libraries that are necessary for the three activities\n",
        "from textblob import TextBlob\n",
        "import json\n",
        "import spacy\n",
        "from spacy import displacy\n",
        "from sklearn.model_selection import train_test_split\n",
        "import googletrans\n",
        "from googletrans import Translator\n",
        "import translate"
      ],
      "metadata": {
        "id": "kNYUfgvj6eEo"
      },
      "execution_count": 5,
      "outputs": []
    },
    {
      "cell_type": "markdown",
      "source": [
        "### Warm up: Out of the Box Sentiment Analysis "
      ],
      "metadata": {
        "id": "6fTd0awyVRAI"
      }
    },
    {
      "cell_type": "code",
      "execution_count": null,
      "metadata": {
        "id": "MO_OB86f52JX"
      },
      "outputs": [],
      "source": [
        "# Class of sentiment analysis\n",
        "class sentiment_analysis:\n",
        "\n",
        "  def __init__(self, file):\n",
        "    self.file = file\n",
        "\n",
        "  def analysis(file):\n",
        "    with open(file, \"r\") as data_file:\n",
        "      for line in data_file:\n",
        "          data = TextBlob(line.strip().split('<br />')[0])\n",
        "          polarity = data.polarity\n",
        "          if polarity < 0: \n",
        "            print(\"Negative\")\n",
        "          elif polarity >= 0:\n",
        "            print(\"Positive\")"
      ]
    },
    {
      "cell_type": "code",
      "source": [
        "# Calling the class function\n",
        "analysis = sentiment_analysis.analysis(\"tiny_movie_reviews_dataset.txt\")"
      ],
      "metadata": {
        "colab": {
          "base_uri": "https://localhost:8080/"
        },
        "id": "TL1P6GHt6cu6",
        "outputId": "725defd9-1b0a-4c39-abfc-f72e3e24f8bb"
      },
      "execution_count": null,
      "outputs": [
        {
          "output_type": "stream",
          "name": "stdout",
          "text": [
            "Positive\n",
            "Positive\n",
            "Positive\n",
            "Positive\n",
            "Positive\n",
            "Positive\n",
            "Negative\n",
            "Positive\n",
            "Negative\n",
            "Positive\n",
            "Positive\n",
            "Positive\n",
            "Positive\n",
            "Negative\n",
            "Positive\n",
            "Positive\n",
            "Positive\n",
            "Positive\n",
            "Positive\n",
            "Negative\n"
          ]
        }
      ]
    },
    {
      "cell_type": "markdown",
      "source": [
        "### NER: Take a basic, pretrained NER model, and train further on a task-specific dataset"
      ],
      "metadata": {
        "id": "G8OpAi9IVfY5"
      }
    },
    {
      "cell_type": "code",
      "source": [
        "class ner:\n",
        "\n",
        "  def __init__(self, file):\n",
        "    self.file = file\n",
        "  \n",
        "  def ner_train(file):\n",
        "    file = open(file)\n",
        "    data = json.load(file)\n",
        "    ner = spacy.load(\"en_core_web_sm\")\n",
        "    train, test = train_test_split(data[\"examples\"], test_size=0.25)\n",
        "    val, test = train_test_split(test, test_size=0.5)\n",
        "    i = 0\n",
        "    for i in range(len(train)):\n",
        "      raw_text = train[i]\n",
        "      text = ner(raw_text[\"content\"])\n",
        "      for word in text.ents:\n",
        "        print(word.text,word.label_) # Print the words and the label assigned\n",
        "      i += 1\n",
        "    \n",
        "    displacy.render(text,style=\"ent\",jupyter=True) # Render the words with the tags assigned"
      ],
      "metadata": {
        "id": "e1qw5179TERw"
      },
      "execution_count": 13,
      "outputs": []
    },
    {
      "cell_type": "code",
      "source": [
        "ner.ner_train('Corona2.json')"
      ],
      "metadata": {
        "colab": {
          "base_uri": "https://localhost:8080/",
          "height": 1000
        },
        "id": "D9krW83AUcgP",
        "outputId": "b80ff0e7-a866-470a-b149-1b118eff1318"
      },
      "execution_count": 14,
      "outputs": [
        {
          "output_type": "stream",
          "name": "stdout",
          "text": [
            "TB ORG\n",
            "13% PERCENT\n",
            "TB ORG\n",
            "Africa LOC\n",
            "about 5–10% PERCENT\n",
            "30% PERCENT\n",
            "at least three CARDINAL\n",
            "a few days DATE\n",
            "Epstein–Barr PRODUCT\n",
            "at least one CARDINAL\n",
            "Yersinia GPE\n",
            "TB ORG\n",
            "three to nine months DATE\n",
            "TB ORG\n",
            "Gabapentin GPE\n",
            "neuralgia GPE\n",
            "disorder1 ORG\n",
            "two days DATE\n",
            "more than two CARDINAL\n",
            "24-hour TIME\n",
            "North and South America GPE\n",
            "Western Europe LOC\n",
            "Australia GPE\n",
            "the United States GPE\n",
            "19 CARDINAL\n",
            "1997–2006 CARDINAL\n",
            "17 CARDINAL\n",
            "North America LOC\n",
            "about half CARDINAL\n",
            "two CARDINAL\n",
            "1956 DATE\n",
            "1959 DATE\n",
            "2 CARDINAL\n",
            "about 90% PERCENT\n",
            "About 25% PERCENT\n",
            "Rasmussen PERSON\n",
            "Salmonella GPE\n",
            "Neisseria GPE\n",
            "Brucella, Mycobacterium, ORG\n",
            "Nocardia GPE\n",
            "Listeria GPE\n",
            "Francisella PERSON\n",
            "Legionella PERSON\n",
            "Yersinia GPE\n",
            "Lactobacilli GPE\n",
            "Trichomonas GPE\n",
            "Bacterial ORG\n",
            "Escherichia PERSON\n",
            "Urine PERSON\n",
            "Bacteria PERSON\n",
            "Escherichia NORP\n",
            "Staphylococcus ORG\n",
            "Streptococcus pyogenes.[13]\n",
            "Erysipelas ORG\n",
            "Cellulitis PRODUCT\n",
            "two CARDINAL\n",
            "M2 CARDINAL\n",
            "15–20% PERCENT\n",
            "more than 50% PERCENT\n",
            "Pott GPE\n",
            "TB ORG\n",
            "about 10% PERCENT\n",
            "infliximab ORG\n",
            "Rituximab PERSON\n",
            "Hydroxychloroquine PRODUCT\n",
            "RA ORG\n",
            "6–12 months DATE\n",
            "2 years.[89 DATE\n",
            "Sulfasalazine ORG\n",
            "Sodium ORG\n",
            "RA ORG\n",
            "effects.[8][92] LOC\n",
            "DMARD ORG\n",
            "first ORDINAL\n",
            "HAQ ORG\n",
            "RA ORG\n",
            "TB ORG\n",
            "ART ORG\n",
            "ART ORG\n",
            "Zyban ORG\n",
            "Ontario GPE\n",
            "Canada GPE\n",
            "Zyban ORG\n",
            "Wellbutrin GPE\n",
            "Wellbutrin LOC\n",
            "two CARDINAL\n",
            "Mouyassué PERSON\n",
            "banana pipistrelle ORG\n",
            "Mouyassué GPE\n",
            "Cote d'Ivoire GPE\n",
            "West Africa GPE\n",
            "Magboi PERSON\n",
            "hairy slit-faced PERSON\n",
            "the Magboi River LOC\n",
            "Sierra Leone ORG\n",
            "2011 DATE\n",
            "RNA ORG\n",
            "Bunyaviridae GPE\n",
            "1982–1995 CARDINAL\n",
            "M2 CARDINAL\n",
            "M2 drug target.[160] Measured PRODUCT\n",
            "American NORP\n",
            "91% PERCENT\n",
            "China GPE\n",
            "CDC ORG\n",
            "M2 CARDINAL\n",
            "2005–06 ORDINAL\n",
            "2003 DATE\n",
            "the prior year DATE\n",
            "Asia LOC\n",
            "the World Health Organization ORG\n",
            "More than 8,000 CARDINAL\n",
            "about ten percent PERCENT\n",
            "about 2 million CARDINAL\n",
            "Streptococcus and Pseudomonas ORG\n",
            "Shigella ORG\n",
            "Salmonella ORG\n",
            "Hansen ORG\n",
            "between 1 and 5 CARDINAL\n",
            "first ORDINAL\n",
            "first ORDINAL\n",
            "1967 DATE\n",
            "HIV.[53 ORG\n"
          ]
        },
        {
          "output_type": "display_data",
          "data": {
            "text/plain": [
              "<IPython.core.display.HTML object>"
            ],
            "text/html": [
              "<span class=\"tex2jax_ignore\"><div class=\"entities\" style=\"line-height: 2.5; direction: ltr\">All medical applications known so far involve not pure adamantane, but its derivatives. The \n",
              "<mark class=\"entity\" style=\"background: #e4e7d2; padding: 0.45em 0.6em; margin: 0 0.25em; line-height: 1; border-radius: 0.35em;\">\n",
              "    first\n",
              "    <span style=\"font-size: 0.8em; font-weight: bold; line-height: 1; border-radius: 0.35em; vertical-align: middle; margin-left: 0.5rem\">ORDINAL</span>\n",
              "</mark>\n",
              " adamantane derivative used as a drug was amantadine – \n",
              "<mark class=\"entity\" style=\"background: #e4e7d2; padding: 0.45em 0.6em; margin: 0 0.25em; line-height: 1; border-radius: 0.35em;\">\n",
              "    first\n",
              "    <span style=\"font-size: 0.8em; font-weight: bold; line-height: 1; border-radius: 0.35em; vertical-align: middle; margin-left: 0.5rem\">ORDINAL</span>\n",
              "</mark>\n",
              " (\n",
              "<mark class=\"entity\" style=\"background: #bfe1d9; padding: 0.45em 0.6em; margin: 0 0.25em; line-height: 1; border-radius: 0.35em;\">\n",
              "    1967\n",
              "    <span style=\"font-size: 0.8em; font-weight: bold; line-height: 1; border-radius: 0.35em; vertical-align: middle; margin-left: 0.5rem\">DATE</span>\n",
              "</mark>\n",
              ") as an antiviral drug against various strains of flu[50] and then to treat Parkinson's disease.[51][52] Other drugs among adamantane derivatives include adapalene, adapromine, bromantane, carmantadine, chlodantane, dopamantine, memantine, rimantadine, saxagliptin, tromantadine, and vildagliptin. Polymers of adamantane have been patented as antiviral agents against \n",
              "<mark class=\"entity\" style=\"background: #7aecec; padding: 0.45em 0.6em; margin: 0 0.25em; line-height: 1; border-radius: 0.35em;\">\n",
              "    HIV.[53\n",
              "    <span style=\"font-size: 0.8em; font-weight: bold; line-height: 1; border-radius: 0.35em; vertical-align: middle; margin-left: 0.5rem\">ORG</span>\n",
              "</mark>\n",
              "]</div></span>"
            ]
          },
          "metadata": {}
        },
        {
          "output_type": "stream",
          "name": "stdout",
          "text": [
            "Model precision None\n"
          ]
        }
      ]
    },
    {
      "cell_type": "markdown",
      "source": [
        "### Set up and compare model performance of two different translation models"
      ],
      "metadata": {
        "id": "tvF_vPdHV2q7"
      }
    },
    {
      "cell_type": "code",
      "source": [
        "class traductor:\n",
        "\n",
        "  def __init__(self, fileTest, fileRef):\n",
        "    fileTest = self.fileTest\n",
        "    fileRef = self.fileRef\n",
        "\n",
        "  def traduction_library(fileTest, fileRef):\n",
        "    translator2 = translate.Translator(from_lang=\"english\",to_lang= \"spanish\")\n",
        "\n",
        "    with open(fileTest, 'r') as fp:\n",
        "      x = fp.readlines()[0:100]\n",
        "      i= 0\n",
        "      for i in range(100):\n",
        "        translated = translator2.translate(x[i])\n",
        "        i += 1\n",
        "\n",
        "    with open(fileRef, 'r') as fp:\n",
        "        y = fp.readlines()[0:100]\n",
        "\n",
        "    return x, y\n",
        "\n",
        "  def traduction_with_google(fileTest, fileRef):\n",
        "\n",
        "    translator = Translator()\n",
        "\n",
        "    with open(fileTest, 'r') as fp:\n",
        "      x = fp.readlines()[0:100]\n",
        "      i= 0\n",
        "      for i in range(100):\n",
        "        translated = translator.translate(x[i], src='en', dest='es')\n",
        "        i += 1\n",
        "  \n",
        "    with open(fileRef, 'r') as fp:\n",
        "        y = fp.readlines()[0:100]\n",
        "        i = 0\n",
        "\n",
        "    return x, y\n",
        "\n",
        "  def score(trad, x, y):\n",
        "    i = 0\n",
        "    for i in range(100): \n",
        "      ref = y[i].split() \n",
        "      test = x[i].split()\n",
        "\n",
        "    from nltk.translate.bleu_score import sentence_bleu\n",
        "    i = 0\n",
        "    for i in range(100): \n",
        "      ref = y[i].split() \n",
        "      test = x[i].split()\n",
        "\n",
        "      i += 1\n",
        "      print(f'{trad} TRANSLATOR: {sentence_bleu(ref, test)}')"
      ],
      "metadata": {
        "id": "SQtGeISl7Azq"
      },
      "execution_count": null,
      "outputs": []
    },
    {
      "cell_type": "code",
      "source": [
        "x1, y1 = traductor.traduction_with_google(\"europarl-v7.es-en.en\", \"europarl-v7.es-en.es\")"
      ],
      "metadata": {
        "id": "yKqouRKW0GNI"
      },
      "execution_count": null,
      "outputs": []
    },
    {
      "cell_type": "code",
      "source": [
        "traductor.score(\"GOOGLE\", x1, y1)"
      ],
      "metadata": {
        "colab": {
          "base_uri": "https://localhost:8080/"
        },
        "id": "n61A_9TsFzkr",
        "outputId": "601faa37-ca4b-4c2f-84c3-028f13c02d52"
      },
      "execution_count": null,
      "outputs": [
        {
          "output_type": "stream",
          "name": "stdout",
          "text": [
            "GOOGLE TRANSLATOR: 0\n",
            "GOOGLE TRANSLATOR: 8.726094729337945e-232\n",
            "GOOGLE TRANSLATOR: 9.181748633447778e-232\n",
            "GOOGLE TRANSLATOR: 8.726094729337945e-232\n",
            "GOOGLE TRANSLATOR: 9.533966891110756e-232\n",
            "GOOGLE TRANSLATOR: 1.0832677820940877e-231\n",
            "GOOGLE TRANSLATOR: 1.2508498911928379e-231\n",
            "GOOGLE TRANSLATOR: 1.1200407237786664e-231\n",
            "GOOGLE TRANSLATOR: 8.319100378795605e-232\n",
            "GOOGLE TRANSLATOR: 8.147480343967206e-232\n",
            "GOOGLE TRANSLATOR: 8.18873472774142e-232\n",
            "GOOGLE TRANSLATOR: 0\n",
            "GOOGLE TRANSLATOR: 0\n",
            "GOOGLE TRANSLATOR: 1.1200407237786664e-231\n",
            "GOOGLE TRANSLATOR: 0\n",
            "GOOGLE TRANSLATOR: 0\n",
            "GOOGLE TRANSLATOR: 9.594503055152632e-232\n",
            "GOOGLE TRANSLATOR: 0\n",
            "GOOGLE TRANSLATOR: 9.418382295637229e-232\n",
            "GOOGLE TRANSLATOR: 8.972141065609098e-232\n",
            "GOOGLE TRANSLATOR: 0\n",
            "GOOGLE TRANSLATOR: 9.157231061812019e-232\n",
            "GOOGLE TRANSLATOR: 7.784451369270533e-232\n",
            "GOOGLE TRANSLATOR: 0\n",
            "GOOGLE TRANSLATOR: 0\n",
            "GOOGLE TRANSLATOR: 0\n",
            "GOOGLE TRANSLATOR: 8.510469113101058e-232\n",
            "GOOGLE TRANSLATOR: 0\n",
            "GOOGLE TRANSLATOR: 7.919883909890055e-232\n",
            "GOOGLE TRANSLATOR: 0\n",
            "GOOGLE TRANSLATOR: 6.630398171726777e-232\n",
            "GOOGLE TRANSLATOR: 6.720628411503338e-232\n",
            "GOOGLE TRANSLATOR: 0\n",
            "GOOGLE TRANSLATOR: 0\n",
            "GOOGLE TRANSLATOR: 0\n",
            "GOOGLE TRANSLATOR: 0\n",
            "GOOGLE TRANSLATOR: 8.972141065609098e-232\n",
            "GOOGLE TRANSLATOR: 0\n",
            "GOOGLE TRANSLATOR: 1.0244914152188952e-231\n",
            "GOOGLE TRANSLATOR: 0\n",
            "GOOGLE TRANSLATOR: 0\n",
            "GOOGLE TRANSLATOR: 0\n",
            "GOOGLE TRANSLATOR: 0\n",
            "GOOGLE TRANSLATOR: 0\n",
            "GOOGLE TRANSLATOR: 0\n",
            "GOOGLE TRANSLATOR: 0\n",
            "GOOGLE TRANSLATOR: 0\n",
            "GOOGLE TRANSLATOR: 0\n",
            "GOOGLE TRANSLATOR: 0\n",
            "GOOGLE TRANSLATOR: 8.147480343967206e-232\n",
            "GOOGLE TRANSLATOR: 8.412065649527267e-232\n",
            "GOOGLE TRANSLATOR: 0\n",
            "GOOGLE TRANSLATOR: 7.919883909890055e-232\n",
            "GOOGLE TRANSLATOR: 0\n",
            "GOOGLE TRANSLATOR: 0\n",
            "GOOGLE TRANSLATOR: 0\n",
            "GOOGLE TRANSLATOR: 8.06798322521923e-232\n",
            "GOOGLE TRANSLATOR: 0\n",
            "GOOGLE TRANSLATOR: 9.257324954728539e-232\n",
            "GOOGLE TRANSLATOR: 0\n",
            "GOOGLE TRANSLATOR: 0\n",
            "GOOGLE TRANSLATOR: 9.594503055152632e-232\n",
            "GOOGLE TRANSLATOR: 0\n",
            "GOOGLE TRANSLATOR: 0\n",
            "GOOGLE TRANSLATOR: 0\n",
            "GOOGLE TRANSLATOR: 0\n",
            "GOOGLE TRANSLATOR: 0\n",
            "GOOGLE TRANSLATOR: 0\n",
            "GOOGLE TRANSLATOR: 0\n",
            "GOOGLE TRANSLATOR: 7.659859945595747e-232\n",
            "GOOGLE TRANSLATOR: 0\n",
            "GOOGLE TRANSLATOR: 0\n",
            "GOOGLE TRANSLATOR: 7.919883909890055e-232\n",
            "GOOGLE TRANSLATOR: 9.788429383461836e-232\n"
          ]
        },
        {
          "output_type": "stream",
          "name": "stderr",
          "text": [
            "/usr/local/lib/python3.7/dist-packages/nltk/translate/bleu_score.py:552: UserWarning: \n",
            "The hypothesis contains 0 counts of 2-gram overlaps.\n",
            "Therefore the BLEU score evaluates to 0, independently of\n",
            "how many N-gram overlaps of lower order it contains.\n",
            "Consider using lower n-gram order or use SmoothingFunction()\n",
            "  warnings.warn(_msg)\n",
            "/usr/local/lib/python3.7/dist-packages/nltk/translate/bleu_score.py:552: UserWarning: \n",
            "The hypothesis contains 0 counts of 3-gram overlaps.\n",
            "Therefore the BLEU score evaluates to 0, independently of\n",
            "how many N-gram overlaps of lower order it contains.\n",
            "Consider using lower n-gram order or use SmoothingFunction()\n",
            "  warnings.warn(_msg)\n",
            "/usr/local/lib/python3.7/dist-packages/nltk/translate/bleu_score.py:552: UserWarning: \n",
            "The hypothesis contains 0 counts of 4-gram overlaps.\n",
            "Therefore the BLEU score evaluates to 0, independently of\n",
            "how many N-gram overlaps of lower order it contains.\n",
            "Consider using lower n-gram order or use SmoothingFunction()\n",
            "  warnings.warn(_msg)\n"
          ]
        },
        {
          "output_type": "stream",
          "name": "stdout",
          "text": [
            "GOOGLE TRANSLATOR: 0\n",
            "GOOGLE TRANSLATOR: 0\n",
            "GOOGLE TRANSLATOR: 0\n",
            "GOOGLE TRANSLATOR: 8.231055179516831e-232\n",
            "GOOGLE TRANSLATOR: 9.788429383461836e-232\n",
            "GOOGLE TRANSLATOR: 0\n",
            "GOOGLE TRANSLATOR: 8.048704752395483e-232\n",
            "GOOGLE TRANSLATOR: 7.720899511627474e-232\n",
            "GOOGLE TRANSLATOR: 7.640041254455826e-232\n",
            "GOOGLE TRANSLATOR: 0\n",
            "GOOGLE TRANSLATOR: 0\n",
            "GOOGLE TRANSLATOR: 0\n",
            "GOOGLE TRANSLATOR: 0\n",
            "GOOGLE TRANSLATOR: 8.477028509227734e-232\n",
            "GOOGLE TRANSLATOR: 8.06798322521923e-232\n",
            "GOOGLE TRANSLATOR: 6.752107625974243e-232\n",
            "GOOGLE TRANSLATOR: 6.492476721861418e-232\n",
            "GOOGLE TRANSLATOR: 0\n",
            "GOOGLE TRANSLATOR: 0\n",
            "GOOGLE TRANSLATOR: 8.726094729337945e-232\n",
            "GOOGLE TRANSLATOR: 0\n",
            "GOOGLE TRANSLATOR: 9.109159947227211e-232\n",
            "GOOGLE TRANSLATOR: 9.788429383461836e-232\n",
            "GOOGLE TRANSLATOR: 0\n",
            "GOOGLE TRANSLATOR: 7.601159375410181e-232\n",
            "GOOGLE TRANSLATOR: 1.0003688322288243e-231\n"
          ]
        }
      ]
    },
    {
      "cell_type": "code",
      "source": [
        "x2, y2 = traductor.traduction_library(\"europarl-v7.es-en.en\", \"europarl-v7.es-en.es\")"
      ],
      "metadata": {
        "id": "gPlvM4hGF-7Z"
      },
      "execution_count": null,
      "outputs": []
    },
    {
      "cell_type": "code",
      "source": [
        "traductor.score(\"LIBRARY\", x1, y1)"
      ],
      "metadata": {
        "colab": {
          "base_uri": "https://localhost:8080/"
        },
        "id": "j8tuiqwSINoh",
        "outputId": "1b734aeb-5430-4010-e89a-bd15d78b14e4"
      },
      "execution_count": null,
      "outputs": [
        {
          "output_type": "stream",
          "name": "stdout",
          "text": [
            "LIBRARY TRANSLATOR: 0\n",
            "LIBRARY TRANSLATOR: 8.726094729337945e-232\n",
            "LIBRARY TRANSLATOR: 9.181748633447778e-232\n",
            "LIBRARY TRANSLATOR: 8.726094729337945e-232\n",
            "LIBRARY TRANSLATOR: 9.533966891110756e-232\n",
            "LIBRARY TRANSLATOR: 1.0832677820940877e-231\n",
            "LIBRARY TRANSLATOR: 1.2508498911928379e-231\n",
            "LIBRARY TRANSLATOR: 1.1200407237786664e-231\n",
            "LIBRARY TRANSLATOR: 8.319100378795605e-232\n",
            "LIBRARY TRANSLATOR: 8.147480343967206e-232\n",
            "LIBRARY TRANSLATOR: 8.18873472774142e-232\n",
            "LIBRARY TRANSLATOR: 0\n",
            "LIBRARY TRANSLATOR: 0\n",
            "LIBRARY TRANSLATOR: 1.1200407237786664e-231\n",
            "LIBRARY TRANSLATOR: 0\n",
            "LIBRARY TRANSLATOR: 0\n",
            "LIBRARY TRANSLATOR: 9.594503055152632e-232\n",
            "LIBRARY TRANSLATOR: 0\n",
            "LIBRARY TRANSLATOR: 9.418382295637229e-232\n",
            "LIBRARY TRANSLATOR: 8.972141065609098e-232\n",
            "LIBRARY TRANSLATOR: 0\n",
            "LIBRARY TRANSLATOR: 9.157231061812019e-232\n",
            "LIBRARY TRANSLATOR: 7.784451369270533e-232\n",
            "LIBRARY TRANSLATOR: 0\n",
            "LIBRARY TRANSLATOR: 0\n",
            "LIBRARY TRANSLATOR: 0\n",
            "LIBRARY TRANSLATOR: 8.510469113101058e-232\n",
            "LIBRARY TRANSLATOR: 0\n",
            "LIBRARY TRANSLATOR: 7.919883909890055e-232\n",
            "LIBRARY TRANSLATOR: 0\n",
            "LIBRARY TRANSLATOR: 6.630398171726777e-232\n",
            "LIBRARY TRANSLATOR: 6.720628411503338e-232\n",
            "LIBRARY TRANSLATOR: 0\n",
            "LIBRARY TRANSLATOR: 0\n",
            "LIBRARY TRANSLATOR: 0\n",
            "LIBRARY TRANSLATOR: 0\n",
            "LIBRARY TRANSLATOR: 8.972141065609098e-232\n",
            "LIBRARY TRANSLATOR: 0\n",
            "LIBRARY TRANSLATOR: 1.0244914152188952e-231\n",
            "LIBRARY TRANSLATOR: 0\n",
            "LIBRARY TRANSLATOR: 0\n",
            "LIBRARY TRANSLATOR: 0\n",
            "LIBRARY TRANSLATOR: 0\n",
            "LIBRARY TRANSLATOR: 0\n",
            "LIBRARY TRANSLATOR: 0\n",
            "LIBRARY TRANSLATOR: 0\n",
            "LIBRARY TRANSLATOR: 0\n",
            "LIBRARY TRANSLATOR: 0\n",
            "LIBRARY TRANSLATOR: 0\n",
            "LIBRARY TRANSLATOR: 8.147480343967206e-232\n",
            "LIBRARY TRANSLATOR: 8.412065649527267e-232\n",
            "LIBRARY TRANSLATOR: 0\n",
            "LIBRARY TRANSLATOR: 7.919883909890055e-232\n",
            "LIBRARY TRANSLATOR: 0\n",
            "LIBRARY TRANSLATOR: 0\n",
            "LIBRARY TRANSLATOR: 0\n",
            "LIBRARY TRANSLATOR: 8.06798322521923e-232\n",
            "LIBRARY TRANSLATOR: 0\n",
            "LIBRARY TRANSLATOR: 9.257324954728539e-232\n",
            "LIBRARY TRANSLATOR: 0\n",
            "LIBRARY TRANSLATOR: 0\n",
            "LIBRARY TRANSLATOR: 9.594503055152632e-232\n",
            "LIBRARY TRANSLATOR: 0\n",
            "LIBRARY TRANSLATOR: 0\n",
            "LIBRARY TRANSLATOR: 0\n",
            "LIBRARY TRANSLATOR: 0\n",
            "LIBRARY TRANSLATOR: 0\n",
            "LIBRARY TRANSLATOR: 0\n",
            "LIBRARY TRANSLATOR: 0\n",
            "LIBRARY TRANSLATOR: 7.659859945595747e-232\n",
            "LIBRARY TRANSLATOR: 0\n",
            "LIBRARY TRANSLATOR: 0\n",
            "LIBRARY TRANSLATOR: 7.919883909890055e-232\n",
            "LIBRARY TRANSLATOR: 9.788429383461836e-232\n",
            "LIBRARY TRANSLATOR: 0\n",
            "LIBRARY TRANSLATOR: 0\n",
            "LIBRARY TRANSLATOR: 0\n",
            "LIBRARY TRANSLATOR: 8.231055179516831e-232\n",
            "LIBRARY TRANSLATOR: 9.788429383461836e-232\n",
            "LIBRARY TRANSLATOR: 0\n",
            "LIBRARY TRANSLATOR: 8.048704752395483e-232\n",
            "LIBRARY TRANSLATOR: 7.720899511627474e-232\n",
            "LIBRARY TRANSLATOR: 7.640041254455826e-232\n",
            "LIBRARY TRANSLATOR: 0\n",
            "LIBRARY TRANSLATOR: 0\n",
            "LIBRARY TRANSLATOR: 0\n",
            "LIBRARY TRANSLATOR: 0\n",
            "LIBRARY TRANSLATOR: 8.477028509227734e-232\n",
            "LIBRARY TRANSLATOR: 8.06798322521923e-232\n",
            "LIBRARY TRANSLATOR: 6.752107625974243e-232\n",
            "LIBRARY TRANSLATOR: 6.492476721861418e-232\n",
            "LIBRARY TRANSLATOR: 0\n",
            "LIBRARY TRANSLATOR: 0\n",
            "LIBRARY TRANSLATOR: 8.726094729337945e-232\n",
            "LIBRARY TRANSLATOR: 0\n",
            "LIBRARY TRANSLATOR: 9.109159947227211e-232\n",
            "LIBRARY TRANSLATOR: 9.788429383461836e-232\n",
            "LIBRARY TRANSLATOR: 0\n",
            "LIBRARY TRANSLATOR: 7.601159375410181e-232\n",
            "LIBRARY TRANSLATOR: 1.0003688322288243e-231\n"
          ]
        }
      ]
    },
    {
      "cell_type": "code",
      "source": [],
      "metadata": {
        "id": "Tpn6cuyRUkVl"
      },
      "execution_count": null,
      "outputs": []
    }
  ]
}