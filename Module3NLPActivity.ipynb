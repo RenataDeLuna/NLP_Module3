{
  "nbformat": 4,
  "nbformat_minor": 0,
  "metadata": {
    "colab": {
      "provenance": [],
      "collapsed_sections": []
    },
    "kernelspec": {
      "name": "python3",
      "display_name": "Python 3"
    },
    "language_info": {
      "name": "python"
    },
    "accelerator": "GPU",
    "gpuClass": "standard"
  },
  "cells": [
    {
      "cell_type": "markdown",
      "source": [
        "### Preparation\n"
      ],
      "metadata": {
        "id": "rvbrDgsfV_sd"
      }
    },
    {
      "cell_type": "code",
      "source": [
        "# Packages to installfor sentiment analysis\n",
        "!python -m textblob.download_corpora"
      ],
      "metadata": {
        "colab": {
          "base_uri": "https://localhost:8080/"
        },
        "id": "j8Y2_K66UDGL",
        "outputId": "1f401a82-a01d-4c63-b021-4db41d9bedcd"
      },
      "execution_count": 47,
      "outputs": [
        {
          "output_type": "stream",
          "name": "stdout",
          "text": [
            "[nltk_data] Downloading package brown to /root/nltk_data...\n",
            "[nltk_data]   Package brown is already up-to-date!\n",
            "[nltk_data] Downloading package punkt to /root/nltk_data...\n",
            "[nltk_data]   Package punkt is already up-to-date!\n",
            "[nltk_data] Downloading package wordnet to /root/nltk_data...\n",
            "[nltk_data]   Package wordnet is already up-to-date!\n",
            "[nltk_data] Downloading package averaged_perceptron_tagger to\n",
            "[nltk_data]     /root/nltk_data...\n",
            "[nltk_data]   Package averaged_perceptron_tagger is already up-to-\n",
            "[nltk_data]       date!\n",
            "[nltk_data] Downloading package conll2000 to /root/nltk_data...\n",
            "[nltk_data]   Package conll2000 is already up-to-date!\n",
            "[nltk_data] Downloading package movie_reviews to /root/nltk_data...\n",
            "[nltk_data]   Package movie_reviews is already up-to-date!\n",
            "Finished.\n"
          ]
        }
      ]
    },
    {
      "cell_type": "code",
      "source": [
        "# Install translator\n",
        "pip install translate"
      ],
      "metadata": {
        "colab": {
          "base_uri": "https://localhost:8080/"
        },
        "id": "ooj6Zax-UDtd",
        "outputId": "0a45a3d3-900c-4f49-9ecc-99d7a01e8e06"
      },
      "execution_count": 48,
      "outputs": [
        {
          "output_type": "stream",
          "name": "stdout",
          "text": [
            "Looking in indexes: https://pypi.org/simple, https://us-python.pkg.dev/colab-wheels/public/simple/\n",
            "Requirement already satisfied: translate in /usr/local/lib/python3.7/dist-packages (3.6.1)\n",
            "Requirement already satisfied: click in /usr/local/lib/python3.7/dist-packages (from translate) (7.1.2)\n",
            "Requirement already satisfied: requests in /usr/local/lib/python3.7/dist-packages (from translate) (2.23.0)\n",
            "Requirement already satisfied: libretranslatepy==2.1.1 in /usr/local/lib/python3.7/dist-packages (from translate) (2.1.1)\n",
            "Requirement already satisfied: lxml in /usr/local/lib/python3.7/dist-packages (from translate) (4.9.1)\n",
            "Requirement already satisfied: certifi>=2017.4.17 in /usr/local/lib/python3.7/dist-packages (from requests->translate) (2022.9.24)\n",
            "Requirement already satisfied: chardet<4,>=3.0.2 in /usr/local/lib/python3.7/dist-packages (from requests->translate) (3.0.4)\n",
            "Requirement already satisfied: idna<3,>=2.5 in /usr/local/lib/python3.7/dist-packages (from requests->translate) (2.10)\n",
            "Requirement already satisfied: urllib3!=1.25.0,!=1.25.1,<1.26,>=1.21.1 in /usr/local/lib/python3.7/dist-packages (from requests->translate) (1.24.3)\n"
          ]
        }
      ]
    },
    {
      "cell_type": "code",
      "source": [
        "# Install google trans\n",
        "!pip install googletrans==3.1.0a0"
      ],
      "metadata": {
        "colab": {
          "base_uri": "https://localhost:8080/"
        },
        "id": "ehd6-mIVUHUx",
        "outputId": "604ba138-e7eb-492e-dd95-d45e060db8c3"
      },
      "execution_count": 49,
      "outputs": [
        {
          "output_type": "stream",
          "name": "stdout",
          "text": [
            "Looking in indexes: https://pypi.org/simple, https://us-python.pkg.dev/colab-wheels/public/simple/\n",
            "Requirement already satisfied: googletrans==3.1.0a0 in /usr/local/lib/python3.7/dist-packages (3.1.0a0)\n",
            "Requirement already satisfied: httpx==0.13.3 in /usr/local/lib/python3.7/dist-packages (from googletrans==3.1.0a0) (0.13.3)\n",
            "Requirement already satisfied: httpcore==0.9.* in /usr/local/lib/python3.7/dist-packages (from httpx==0.13.3->googletrans==3.1.0a0) (0.9.1)\n",
            "Requirement already satisfied: chardet==3.* in /usr/local/lib/python3.7/dist-packages (from httpx==0.13.3->googletrans==3.1.0a0) (3.0.4)\n",
            "Requirement already satisfied: certifi in /usr/local/lib/python3.7/dist-packages (from httpx==0.13.3->googletrans==3.1.0a0) (2022.9.24)\n",
            "Requirement already satisfied: rfc3986<2,>=1.3 in /usr/local/lib/python3.7/dist-packages (from httpx==0.13.3->googletrans==3.1.0a0) (1.5.0)\n",
            "Requirement already satisfied: sniffio in /usr/local/lib/python3.7/dist-packages (from httpx==0.13.3->googletrans==3.1.0a0) (1.3.0)\n",
            "Requirement already satisfied: hstspreload in /usr/local/lib/python3.7/dist-packages (from httpx==0.13.3->googletrans==3.1.0a0) (2022.11.1)\n",
            "Requirement already satisfied: idna==2.* in /usr/local/lib/python3.7/dist-packages (from httpx==0.13.3->googletrans==3.1.0a0) (2.10)\n",
            "Requirement already satisfied: h2==3.* in /usr/local/lib/python3.7/dist-packages (from httpcore==0.9.*->httpx==0.13.3->googletrans==3.1.0a0) (3.2.0)\n",
            "Requirement already satisfied: h11<0.10,>=0.8 in /usr/local/lib/python3.7/dist-packages (from httpcore==0.9.*->httpx==0.13.3->googletrans==3.1.0a0) (0.9.0)\n",
            "Requirement already satisfied: hpack<4,>=3.0 in /usr/local/lib/python3.7/dist-packages (from h2==3.*->httpcore==0.9.*->httpx==0.13.3->googletrans==3.1.0a0) (3.0.0)\n",
            "Requirement already satisfied: hyperframe<6,>=5.2.0 in /usr/local/lib/python3.7/dist-packages (from h2==3.*->httpcore==0.9.*->httpx==0.13.3->googletrans==3.1.0a0) (5.2.0)\n"
          ]
        }
      ]
    },
    {
      "cell_type": "code",
      "source": [
        "# Import all the libraries that are necessary for the three activities\n",
        "from textblob import TextBlob\n",
        "import json\n",
        "import spacy\n",
        "from spacy import displacy\n",
        "from sklearn.model_selection import train_test_split\n",
        "import googletrans\n",
        "from googletrans import Translator\n",
        "import translate"
      ],
      "metadata": {
        "id": "kNYUfgvj6eEo"
      },
      "execution_count": 51,
      "outputs": []
    },
    {
      "cell_type": "markdown",
      "source": [
        "### Warm up: Out of the Box Sentiment Analysis "
      ],
      "metadata": {
        "id": "6fTd0awyVRAI"
      }
    },
    {
      "cell_type": "code",
      "execution_count": 65,
      "metadata": {
        "id": "MO_OB86f52JX"
      },
      "outputs": [],
      "source": [
        "# Class of sentiment analysis\n",
        "class sentiment_analysis:\n",
        "\n",
        "  def __init__(self, file):\n",
        "    self.file = file\n",
        "\n",
        "  def analysis(file):\n",
        "    with open(file, \"r\") as data_file:\n",
        "      for line in data_file:\n",
        "          data = TextBlob(line.strip().split('<br />')[0])\n",
        "          polarity = data.polarity\n",
        "          if polarity < 0: \n",
        "            print(\"Negative\")\n",
        "          elif polarity >= 0:\n",
        "            print(\"Positive\")"
      ]
    },
    {
      "cell_type": "code",
      "source": [
        "# Calling the class function\n",
        "analysis = sentiment_analysis.analysis(\"tiny_movie_reviews_dataset.txt\")"
      ],
      "metadata": {
        "colab": {
          "base_uri": "https://localhost:8080/"
        },
        "id": "TL1P6GHt6cu6",
        "outputId": "725defd9-1b0a-4c39-abfc-f72e3e24f8bb"
      },
      "execution_count": 66,
      "outputs": [
        {
          "output_type": "stream",
          "name": "stdout",
          "text": [
            "Positive\n",
            "Positive\n",
            "Positive\n",
            "Positive\n",
            "Positive\n",
            "Positive\n",
            "Negative\n",
            "Positive\n",
            "Negative\n",
            "Positive\n",
            "Positive\n",
            "Positive\n",
            "Positive\n",
            "Negative\n",
            "Positive\n",
            "Positive\n",
            "Positive\n",
            "Positive\n",
            "Positive\n",
            "Negative\n"
          ]
        }
      ]
    },
    {
      "cell_type": "markdown",
      "source": [
        "### NER: Take a basic, pretrained NER model, and train further on a task-specific dataset"
      ],
      "metadata": {
        "id": "G8OpAi9IVfY5"
      }
    },
    {
      "cell_type": "code",
      "source": [
        "class ner:\n",
        "\n",
        "  def __init__(self, file):\n",
        "    self.file = file\n",
        "  \n",
        "  def ner_train(file):\n",
        "    file = open(file)\n",
        "    data = json.load(file)\n",
        "    NER = spacy.load(\"en_core_web_sm\")\n",
        "    train, test = train_test_split(data[\"examples\"], test_size=0.25)\n",
        "    val, test = train_test_split(test, test_size=0.5)\n",
        "\n",
        "    i = 0\n",
        "    for i in range(len(train)):\n",
        "      raw_text = train[i]\n",
        "      text = NER(raw_text[\"content\"])\n",
        "      for word in text.ents:\n",
        "        print(word.text,word.label_) # Print the words and the label assigned\n",
        "      i += 1\n",
        "    \n",
        "    displacy.render(text,style=\"ent\",jupyter=True) # Render the words with the tags assigned"
      ],
      "metadata": {
        "id": "e1qw5179TERw"
      },
      "execution_count": 63,
      "outputs": []
    },
    {
      "cell_type": "code",
      "source": [
        "ner.ner_train('Corona2.json')"
      ],
      "metadata": {
        "colab": {
          "base_uri": "https://localhost:8080/",
          "height": 1000
        },
        "id": "D9krW83AUcgP",
        "outputId": "11c1ad41-b80c-4bd4-df3e-2023739430ab"
      },
      "execution_count": 64,
      "outputs": [
        {
          "output_type": "stream",
          "name": "stdout",
          "text": [
            "Gabapentin GPE\n",
            "neuralgia GPE\n",
            "disorder1 ORG\n",
            "NSAIDs ORG\n",
            "symptoms.[1 ORG\n",
            "disease.[1] Biological DMARDs PRODUCT\n",
            "One CARDINAL\n",
            "about 2 million CARDINAL\n",
            "Streptococcus and Pseudomonas ORG\n",
            "Shigella ORG\n",
            "Salmonella ORG\n",
            "two CARDINAL\n",
            "Mouyassué PERSON\n",
            "banana pipistrelle ORG\n",
            "Mouyassué GPE\n",
            "Cote d'Ivoire GPE\n",
            "West Africa GPE\n",
            "Magboi PERSON\n",
            "hairy slit-faced PERSON\n",
            "the Magboi River LOC\n",
            "Sierra Leone ORG\n",
            "2011 DATE\n",
            "RNA ORG\n",
            "Bunyaviridae GPE\n",
            "TB ORG\n",
            "13% PERCENT\n",
            "TB ORG\n",
            "Africa LOC\n",
            "about 5–10% PERCENT\n",
            "30% PERCENT\n",
            "1982–1995 CARDINAL\n",
            "TB ORG\n",
            "five CARDINAL\n",
            "FDA ORG\n",
            "M2 CARDINAL\n",
            "M2 drug target.[160] Measured PRODUCT\n",
            "American NORP\n",
            "91% PERCENT\n",
            "China GPE\n",
            "CDC ORG\n",
            "M2 CARDINAL\n",
            "2005–06 ORDINAL\n",
            "two CARDINAL\n",
            "M2 CARDINAL\n",
            "first ORDINAL\n",
            "first ORDINAL\n",
            "1967 DATE\n",
            "HIV.[53 ORG\n",
            "TB ORG\n",
            "first ORDINAL\n",
            "FDA ORG\n",
            "first ORDINAL\n",
            "One CARDINAL\n",
            "SNRI ORG\n",
            "social phobia ORG\n",
            "five CARDINAL\n",
            "European NORP\n",
            "TCA ORG\n",
            "CR GPE\n",
            "Lactobacilli GPE\n",
            "Trichomonas GPE\n",
            "Bacterial ORG\n",
            "Escherichia PERSON\n",
            "Urine PERSON\n",
            "Bacteria PERSON\n",
            "Escherichia NORP\n",
            "Staphylococcus ORG\n",
            "Streptococcus pyogenes.[13]\n",
            "Erysipelas ORG\n",
            "Cellulitis PRODUCT\n",
            "neuromyotonia GPE\n",
            "6 CARDINAL\n",
            "at least three CARDINAL\n",
            "a few days DATE\n",
            "about 2 million CARDINAL\n",
            "Streptococcus and Pseudomonas ORG\n",
            "Shigella ORG\n",
            "Salmonella ORG\n",
            "Hansen ORG\n",
            "between 1 and 5 CARDINAL\n",
            "about 90% PERCENT\n",
            "About 25% PERCENT\n",
            "Rasmussen PERSON\n",
            "North and South America GPE\n",
            "Western Europe LOC\n",
            "Australia GPE\n",
            "the United States GPE\n",
            "19 CARDINAL\n",
            "1997–2006 CARDINAL\n",
            "17 CARDINAL\n",
            "North America LOC\n",
            "about half CARDINAL\n",
            "two CARDINAL\n",
            "1956 DATE\n",
            "1959 DATE\n",
            "2 CARDINAL\n",
            "Epstein–Barr PRODUCT\n",
            "at least one CARDINAL\n",
            "Yersinia GPE\n",
            "TB ORG\n",
            "three to nine months DATE\n",
            "TB ORG\n"
          ]
        },
        {
          "output_type": "display_data",
          "data": {
            "text/plain": [
              "<IPython.core.display.HTML object>"
            ],
            "text/html": [
              "<span class=\"tex2jax_ignore\"><div class=\"entities\" style=\"line-height: 2.5; direction: ltr\">Latent \n",
              "<mark class=\"entity\" style=\"background: #7aecec; padding: 0.45em 0.6em; margin: 0 0.25em; line-height: 1; border-radius: 0.35em;\">\n",
              "    TB\n",
              "    <span style=\"font-size: 0.8em; font-weight: bold; line-height: 1; border-radius: 0.35em; vertical-align: middle; margin-left: 0.5rem\">ORG</span>\n",
              "</mark>\n",
              " is treated with either isoniazid or rifampin alone, or a combination of isoniazid with either rifampicin or rifapentine.[90][91][92]</br></br>The treatment takes \n",
              "<mark class=\"entity\" style=\"background: #bfe1d9; padding: 0.45em 0.6em; margin: 0 0.25em; line-height: 1; border-radius: 0.35em;\">\n",
              "    three to nine months\n",
              "    <span style=\"font-size: 0.8em; font-weight: bold; line-height: 1; border-radius: 0.35em; vertical-align: middle; margin-left: 0.5rem\">DATE</span>\n",
              "</mark>\n",
              " depending on the medications used.[51][90][93][92] People with latent infections are treated to prevent them from progressing to active \n",
              "<mark class=\"entity\" style=\"background: #7aecec; padding: 0.45em 0.6em; margin: 0 0.25em; line-height: 1; border-radius: 0.35em;\">\n",
              "    TB\n",
              "    <span style=\"font-size: 0.8em; font-weight: bold; line-height: 1; border-radius: 0.35em; vertical-align: middle; margin-left: 0.5rem\">ORG</span>\n",
              "</mark>\n",
              " disease later in life.[94]</div></span>"
            ]
          },
          "metadata": {}
        }
      ]
    },
    {
      "cell_type": "markdown",
      "source": [
        "### Set up and compare model performance of two different translation models"
      ],
      "metadata": {
        "id": "tvF_vPdHV2q7"
      }
    },
    {
      "cell_type": "code",
      "source": [
        "class traductor:\n",
        "\n",
        "  def __init__(self, fileTest, fileRef):\n",
        "    fileTest = self.fileTest\n",
        "    fileRef = self.fileRef\n",
        "\n",
        "  def traduction_library(fileTest, fileRef):\n",
        "    translator2 = translate.Translator(from_lang=\"english\",to_lang= \"spanish\")\n",
        "\n",
        "    with open(fileTest, 'r') as fp:\n",
        "      x = fp.readlines()[0:100]\n",
        "      i= 0\n",
        "      for i in range(100):\n",
        "        translated = translator2.translate(x[i])\n",
        "        i += 1\n",
        "\n",
        "    with open(fileRef, 'r') as fp:\n",
        "        y = fp.readlines()[0:100]\n",
        "\n",
        "    return x, y\n",
        "\n",
        "  def traduction_with_google(fileTest, fileRef):\n",
        "\n",
        "    translator = Translator()\n",
        "\n",
        "    with open(fileTest, 'r') as fp:\n",
        "      x = fp.readlines()[0:100]\n",
        "      i= 0\n",
        "      for i in range(100):\n",
        "        translated = translator.translate(x[i], src='en', dest='es')\n",
        "        i += 1\n",
        "  \n",
        "    with open(fileRef, 'r') as fp:\n",
        "        y = fp.readlines()[0:100]\n",
        "        i = 0\n",
        "\n",
        "    return x, y\n",
        "\n",
        "  def score(trad, x, y):\n",
        "    i = 0\n",
        "    for i in range(100): \n",
        "      ref = y[i].split() \n",
        "      test = x[i].split()\n",
        "\n",
        "    from nltk.translate.bleu_score import sentence_bleu\n",
        "    i = 0\n",
        "    for i in range(100): \n",
        "      ref = y[i].split() \n",
        "      test = x[i].split()\n",
        "\n",
        "      i += 1\n",
        "      print(f'{trad} TRANSLATOR: {sentence_bleu(ref, test)}')"
      ],
      "metadata": {
        "id": "SQtGeISl7Azq"
      },
      "execution_count": 54,
      "outputs": []
    },
    {
      "cell_type": "code",
      "source": [
        "x1, y1 = traductor.traduction_with_google(\"europarl-v7.es-en.en\", \"europarl-v7.es-en.es\")"
      ],
      "metadata": {
        "id": "yKqouRKW0GNI"
      },
      "execution_count": 55,
      "outputs": []
    },
    {
      "cell_type": "code",
      "source": [
        "traductor.score(\"GOOGLE\", x1, y1)"
      ],
      "metadata": {
        "colab": {
          "base_uri": "https://localhost:8080/"
        },
        "id": "n61A_9TsFzkr",
        "outputId": "601faa37-ca4b-4c2f-84c3-028f13c02d52"
      },
      "execution_count": 56,
      "outputs": [
        {
          "output_type": "stream",
          "name": "stdout",
          "text": [
            "GOOGLE TRANSLATOR: 0\n",
            "GOOGLE TRANSLATOR: 8.726094729337945e-232\n",
            "GOOGLE TRANSLATOR: 9.181748633447778e-232\n",
            "GOOGLE TRANSLATOR: 8.726094729337945e-232\n",
            "GOOGLE TRANSLATOR: 9.533966891110756e-232\n",
            "GOOGLE TRANSLATOR: 1.0832677820940877e-231\n",
            "GOOGLE TRANSLATOR: 1.2508498911928379e-231\n",
            "GOOGLE TRANSLATOR: 1.1200407237786664e-231\n",
            "GOOGLE TRANSLATOR: 8.319100378795605e-232\n",
            "GOOGLE TRANSLATOR: 8.147480343967206e-232\n",
            "GOOGLE TRANSLATOR: 8.18873472774142e-232\n",
            "GOOGLE TRANSLATOR: 0\n",
            "GOOGLE TRANSLATOR: 0\n",
            "GOOGLE TRANSLATOR: 1.1200407237786664e-231\n",
            "GOOGLE TRANSLATOR: 0\n",
            "GOOGLE TRANSLATOR: 0\n",
            "GOOGLE TRANSLATOR: 9.594503055152632e-232\n",
            "GOOGLE TRANSLATOR: 0\n",
            "GOOGLE TRANSLATOR: 9.418382295637229e-232\n",
            "GOOGLE TRANSLATOR: 8.972141065609098e-232\n",
            "GOOGLE TRANSLATOR: 0\n",
            "GOOGLE TRANSLATOR: 9.157231061812019e-232\n",
            "GOOGLE TRANSLATOR: 7.784451369270533e-232\n",
            "GOOGLE TRANSLATOR: 0\n",
            "GOOGLE TRANSLATOR: 0\n",
            "GOOGLE TRANSLATOR: 0\n",
            "GOOGLE TRANSLATOR: 8.510469113101058e-232\n",
            "GOOGLE TRANSLATOR: 0\n",
            "GOOGLE TRANSLATOR: 7.919883909890055e-232\n",
            "GOOGLE TRANSLATOR: 0\n",
            "GOOGLE TRANSLATOR: 6.630398171726777e-232\n",
            "GOOGLE TRANSLATOR: 6.720628411503338e-232\n",
            "GOOGLE TRANSLATOR: 0\n",
            "GOOGLE TRANSLATOR: 0\n",
            "GOOGLE TRANSLATOR: 0\n",
            "GOOGLE TRANSLATOR: 0\n",
            "GOOGLE TRANSLATOR: 8.972141065609098e-232\n",
            "GOOGLE TRANSLATOR: 0\n",
            "GOOGLE TRANSLATOR: 1.0244914152188952e-231\n",
            "GOOGLE TRANSLATOR: 0\n",
            "GOOGLE TRANSLATOR: 0\n",
            "GOOGLE TRANSLATOR: 0\n",
            "GOOGLE TRANSLATOR: 0\n",
            "GOOGLE TRANSLATOR: 0\n",
            "GOOGLE TRANSLATOR: 0\n",
            "GOOGLE TRANSLATOR: 0\n",
            "GOOGLE TRANSLATOR: 0\n",
            "GOOGLE TRANSLATOR: 0\n",
            "GOOGLE TRANSLATOR: 0\n",
            "GOOGLE TRANSLATOR: 8.147480343967206e-232\n",
            "GOOGLE TRANSLATOR: 8.412065649527267e-232\n",
            "GOOGLE TRANSLATOR: 0\n",
            "GOOGLE TRANSLATOR: 7.919883909890055e-232\n",
            "GOOGLE TRANSLATOR: 0\n",
            "GOOGLE TRANSLATOR: 0\n",
            "GOOGLE TRANSLATOR: 0\n",
            "GOOGLE TRANSLATOR: 8.06798322521923e-232\n",
            "GOOGLE TRANSLATOR: 0\n",
            "GOOGLE TRANSLATOR: 9.257324954728539e-232\n",
            "GOOGLE TRANSLATOR: 0\n",
            "GOOGLE TRANSLATOR: 0\n",
            "GOOGLE TRANSLATOR: 9.594503055152632e-232\n",
            "GOOGLE TRANSLATOR: 0\n",
            "GOOGLE TRANSLATOR: 0\n",
            "GOOGLE TRANSLATOR: 0\n",
            "GOOGLE TRANSLATOR: 0\n",
            "GOOGLE TRANSLATOR: 0\n",
            "GOOGLE TRANSLATOR: 0\n",
            "GOOGLE TRANSLATOR: 0\n",
            "GOOGLE TRANSLATOR: 7.659859945595747e-232\n",
            "GOOGLE TRANSLATOR: 0\n",
            "GOOGLE TRANSLATOR: 0\n",
            "GOOGLE TRANSLATOR: 7.919883909890055e-232\n",
            "GOOGLE TRANSLATOR: 9.788429383461836e-232\n"
          ]
        },
        {
          "output_type": "stream",
          "name": "stderr",
          "text": [
            "/usr/local/lib/python3.7/dist-packages/nltk/translate/bleu_score.py:552: UserWarning: \n",
            "The hypothesis contains 0 counts of 2-gram overlaps.\n",
            "Therefore the BLEU score evaluates to 0, independently of\n",
            "how many N-gram overlaps of lower order it contains.\n",
            "Consider using lower n-gram order or use SmoothingFunction()\n",
            "  warnings.warn(_msg)\n",
            "/usr/local/lib/python3.7/dist-packages/nltk/translate/bleu_score.py:552: UserWarning: \n",
            "The hypothesis contains 0 counts of 3-gram overlaps.\n",
            "Therefore the BLEU score evaluates to 0, independently of\n",
            "how many N-gram overlaps of lower order it contains.\n",
            "Consider using lower n-gram order or use SmoothingFunction()\n",
            "  warnings.warn(_msg)\n",
            "/usr/local/lib/python3.7/dist-packages/nltk/translate/bleu_score.py:552: UserWarning: \n",
            "The hypothesis contains 0 counts of 4-gram overlaps.\n",
            "Therefore the BLEU score evaluates to 0, independently of\n",
            "how many N-gram overlaps of lower order it contains.\n",
            "Consider using lower n-gram order or use SmoothingFunction()\n",
            "  warnings.warn(_msg)\n"
          ]
        },
        {
          "output_type": "stream",
          "name": "stdout",
          "text": [
            "GOOGLE TRANSLATOR: 0\n",
            "GOOGLE TRANSLATOR: 0\n",
            "GOOGLE TRANSLATOR: 0\n",
            "GOOGLE TRANSLATOR: 8.231055179516831e-232\n",
            "GOOGLE TRANSLATOR: 9.788429383461836e-232\n",
            "GOOGLE TRANSLATOR: 0\n",
            "GOOGLE TRANSLATOR: 8.048704752395483e-232\n",
            "GOOGLE TRANSLATOR: 7.720899511627474e-232\n",
            "GOOGLE TRANSLATOR: 7.640041254455826e-232\n",
            "GOOGLE TRANSLATOR: 0\n",
            "GOOGLE TRANSLATOR: 0\n",
            "GOOGLE TRANSLATOR: 0\n",
            "GOOGLE TRANSLATOR: 0\n",
            "GOOGLE TRANSLATOR: 8.477028509227734e-232\n",
            "GOOGLE TRANSLATOR: 8.06798322521923e-232\n",
            "GOOGLE TRANSLATOR: 6.752107625974243e-232\n",
            "GOOGLE TRANSLATOR: 6.492476721861418e-232\n",
            "GOOGLE TRANSLATOR: 0\n",
            "GOOGLE TRANSLATOR: 0\n",
            "GOOGLE TRANSLATOR: 8.726094729337945e-232\n",
            "GOOGLE TRANSLATOR: 0\n",
            "GOOGLE TRANSLATOR: 9.109159947227211e-232\n",
            "GOOGLE TRANSLATOR: 9.788429383461836e-232\n",
            "GOOGLE TRANSLATOR: 0\n",
            "GOOGLE TRANSLATOR: 7.601159375410181e-232\n",
            "GOOGLE TRANSLATOR: 1.0003688322288243e-231\n"
          ]
        }
      ]
    },
    {
      "cell_type": "code",
      "source": [
        "x2, y2 = traductor.traduction_library(\"europarl-v7.es-en.en\", \"europarl-v7.es-en.es\")"
      ],
      "metadata": {
        "id": "gPlvM4hGF-7Z"
      },
      "execution_count": 57,
      "outputs": []
    },
    {
      "cell_type": "code",
      "source": [
        "traductor.score(\"LIBRARY\", x1, y1)"
      ],
      "metadata": {
        "colab": {
          "base_uri": "https://localhost:8080/"
        },
        "id": "j8tuiqwSINoh",
        "outputId": "1b734aeb-5430-4010-e89a-bd15d78b14e4"
      },
      "execution_count": 58,
      "outputs": [
        {
          "output_type": "stream",
          "name": "stdout",
          "text": [
            "LIBRARY TRANSLATOR: 0\n",
            "LIBRARY TRANSLATOR: 8.726094729337945e-232\n",
            "LIBRARY TRANSLATOR: 9.181748633447778e-232\n",
            "LIBRARY TRANSLATOR: 8.726094729337945e-232\n",
            "LIBRARY TRANSLATOR: 9.533966891110756e-232\n",
            "LIBRARY TRANSLATOR: 1.0832677820940877e-231\n",
            "LIBRARY TRANSLATOR: 1.2508498911928379e-231\n",
            "LIBRARY TRANSLATOR: 1.1200407237786664e-231\n",
            "LIBRARY TRANSLATOR: 8.319100378795605e-232\n",
            "LIBRARY TRANSLATOR: 8.147480343967206e-232\n",
            "LIBRARY TRANSLATOR: 8.18873472774142e-232\n",
            "LIBRARY TRANSLATOR: 0\n",
            "LIBRARY TRANSLATOR: 0\n",
            "LIBRARY TRANSLATOR: 1.1200407237786664e-231\n",
            "LIBRARY TRANSLATOR: 0\n",
            "LIBRARY TRANSLATOR: 0\n",
            "LIBRARY TRANSLATOR: 9.594503055152632e-232\n",
            "LIBRARY TRANSLATOR: 0\n",
            "LIBRARY TRANSLATOR: 9.418382295637229e-232\n",
            "LIBRARY TRANSLATOR: 8.972141065609098e-232\n",
            "LIBRARY TRANSLATOR: 0\n",
            "LIBRARY TRANSLATOR: 9.157231061812019e-232\n",
            "LIBRARY TRANSLATOR: 7.784451369270533e-232\n",
            "LIBRARY TRANSLATOR: 0\n",
            "LIBRARY TRANSLATOR: 0\n",
            "LIBRARY TRANSLATOR: 0\n",
            "LIBRARY TRANSLATOR: 8.510469113101058e-232\n",
            "LIBRARY TRANSLATOR: 0\n",
            "LIBRARY TRANSLATOR: 7.919883909890055e-232\n",
            "LIBRARY TRANSLATOR: 0\n",
            "LIBRARY TRANSLATOR: 6.630398171726777e-232\n",
            "LIBRARY TRANSLATOR: 6.720628411503338e-232\n",
            "LIBRARY TRANSLATOR: 0\n",
            "LIBRARY TRANSLATOR: 0\n",
            "LIBRARY TRANSLATOR: 0\n",
            "LIBRARY TRANSLATOR: 0\n",
            "LIBRARY TRANSLATOR: 8.972141065609098e-232\n",
            "LIBRARY TRANSLATOR: 0\n",
            "LIBRARY TRANSLATOR: 1.0244914152188952e-231\n",
            "LIBRARY TRANSLATOR: 0\n",
            "LIBRARY TRANSLATOR: 0\n",
            "LIBRARY TRANSLATOR: 0\n",
            "LIBRARY TRANSLATOR: 0\n",
            "LIBRARY TRANSLATOR: 0\n",
            "LIBRARY TRANSLATOR: 0\n",
            "LIBRARY TRANSLATOR: 0\n",
            "LIBRARY TRANSLATOR: 0\n",
            "LIBRARY TRANSLATOR: 0\n",
            "LIBRARY TRANSLATOR: 0\n",
            "LIBRARY TRANSLATOR: 8.147480343967206e-232\n",
            "LIBRARY TRANSLATOR: 8.412065649527267e-232\n",
            "LIBRARY TRANSLATOR: 0\n",
            "LIBRARY TRANSLATOR: 7.919883909890055e-232\n",
            "LIBRARY TRANSLATOR: 0\n",
            "LIBRARY TRANSLATOR: 0\n",
            "LIBRARY TRANSLATOR: 0\n",
            "LIBRARY TRANSLATOR: 8.06798322521923e-232\n",
            "LIBRARY TRANSLATOR: 0\n",
            "LIBRARY TRANSLATOR: 9.257324954728539e-232\n",
            "LIBRARY TRANSLATOR: 0\n",
            "LIBRARY TRANSLATOR: 0\n",
            "LIBRARY TRANSLATOR: 9.594503055152632e-232\n",
            "LIBRARY TRANSLATOR: 0\n",
            "LIBRARY TRANSLATOR: 0\n",
            "LIBRARY TRANSLATOR: 0\n",
            "LIBRARY TRANSLATOR: 0\n",
            "LIBRARY TRANSLATOR: 0\n",
            "LIBRARY TRANSLATOR: 0\n",
            "LIBRARY TRANSLATOR: 0\n",
            "LIBRARY TRANSLATOR: 7.659859945595747e-232\n",
            "LIBRARY TRANSLATOR: 0\n",
            "LIBRARY TRANSLATOR: 0\n",
            "LIBRARY TRANSLATOR: 7.919883909890055e-232\n",
            "LIBRARY TRANSLATOR: 9.788429383461836e-232\n",
            "LIBRARY TRANSLATOR: 0\n",
            "LIBRARY TRANSLATOR: 0\n",
            "LIBRARY TRANSLATOR: 0\n",
            "LIBRARY TRANSLATOR: 8.231055179516831e-232\n",
            "LIBRARY TRANSLATOR: 9.788429383461836e-232\n",
            "LIBRARY TRANSLATOR: 0\n",
            "LIBRARY TRANSLATOR: 8.048704752395483e-232\n",
            "LIBRARY TRANSLATOR: 7.720899511627474e-232\n",
            "LIBRARY TRANSLATOR: 7.640041254455826e-232\n",
            "LIBRARY TRANSLATOR: 0\n",
            "LIBRARY TRANSLATOR: 0\n",
            "LIBRARY TRANSLATOR: 0\n",
            "LIBRARY TRANSLATOR: 0\n",
            "LIBRARY TRANSLATOR: 8.477028509227734e-232\n",
            "LIBRARY TRANSLATOR: 8.06798322521923e-232\n",
            "LIBRARY TRANSLATOR: 6.752107625974243e-232\n",
            "LIBRARY TRANSLATOR: 6.492476721861418e-232\n",
            "LIBRARY TRANSLATOR: 0\n",
            "LIBRARY TRANSLATOR: 0\n",
            "LIBRARY TRANSLATOR: 8.726094729337945e-232\n",
            "LIBRARY TRANSLATOR: 0\n",
            "LIBRARY TRANSLATOR: 9.109159947227211e-232\n",
            "LIBRARY TRANSLATOR: 9.788429383461836e-232\n",
            "LIBRARY TRANSLATOR: 0\n",
            "LIBRARY TRANSLATOR: 7.601159375410181e-232\n",
            "LIBRARY TRANSLATOR: 1.0003688322288243e-231\n"
          ]
        }
      ]
    },
    {
      "cell_type": "code",
      "source": [],
      "metadata": {
        "id": "Tpn6cuyRUkVl"
      },
      "execution_count": null,
      "outputs": []
    }
  ]
}